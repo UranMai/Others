{
  "nbformat": 4,
  "nbformat_minor": 0,
  "metadata": {
    "colab": {
      "name": "Movie_reviews.ipynb",
      "provenance": [],
      "collapsed_sections": [],
      "mount_file_id": "1aeFnDdHpKBkvc4wgLzHhYTpyWCqjA_VV",
      "authorship_tag": "ABX9TyNmdRvc2Z7CBp1icWMhrQno",
      "include_colab_link": true
    },
    "kernelspec": {
      "name": "python3",
      "display_name": "Python 3"
    },
    "accelerator": "GPU"
  },
  "cells": [
    {
      "cell_type": "markdown",
      "metadata": {
        "id": "view-in-github",
        "colab_type": "text"
      },
      "source": [
        "<a href=\"https://colab.research.google.com/github/UranMai/Others/blob/master/Movie_reviews.ipynb\" target=\"_parent\"><img src=\"https://colab.research.google.com/assets/colab-badge.svg\" alt=\"Open In Colab\"/></a>"
      ]
    },
    {
      "cell_type": "markdown",
      "metadata": {
        "id": "5szmqsZbPbz8",
        "colab_type": "text"
      },
      "source": [
        "# FILES PREPARATION\n",
        "\n",
        "\n",
        "\n",
        "> Create dataframes with reviews, sentiment and rating\n",
        "\n"
      ]
    },
    {
      "cell_type": "code",
      "metadata": {
        "id": "WqS9GB-py6gS",
        "colab_type": "code",
        "colab": {}
      },
      "source": [
        "from IPython.display import HTML, display\n",
        "\n",
        "def set_css():\n",
        "  display(HTML('''\n",
        "  <style>\n",
        "    pre {\n",
        "        white-space: pre-wrap;\n",
        "    }\n",
        "  </style>\n",
        "  '''))\n",
        "get_ipython().events.register('pre_run_cell', set_css)"
      ],
      "execution_count": 1,
      "outputs": []
    },
    {
      "cell_type": "code",
      "metadata": {
        "id": "jCX9VMu_tZwT",
        "colab_type": "code",
        "colab": {
          "base_uri": "https://localhost:8080/",
          "height": 16
        },
        "outputId": "0ea6b157-d8d5-4c30-f988-48ec353061aa"
      },
      "source": [
        "import tarfile\n",
        "import numpy as np\n",
        "import pandas as pd\n",
        "import os\n",
        "import re\n",
        "import nltk"
      ],
      "execution_count": 2,
      "outputs": [
        {
          "output_type": "display_data",
          "data": {
            "text/html": [
              "\n",
              "  <style>\n",
              "    pre {\n",
              "        white-space: pre-wrap;\n",
              "    }\n",
              "  </style>\n",
              "  "
            ],
            "text/plain": [
              "<IPython.core.display.HTML object>"
            ]
          },
          "metadata": {
            "tags": []
          }
        }
      ]
    },
    {
      "cell_type": "code",
      "metadata": {
        "id": "AO30J_5xtJvz",
        "colab_type": "code",
        "colab": {
          "base_uri": "https://localhost:8080/",
          "height": 16
        },
        "outputId": "0dbf22d3-fac1-4af5-d598-30f384607e79"
      },
      "source": [
        "path = '/content/drive/My Drive/movies_reviews/aclImdb_v1.tar.gz'\n",
        "tar = tarfile.open(path)\n",
        "tar.extractall() #extract to dir aclImdb\n",
        "tar.close()"
      ],
      "execution_count": 3,
      "outputs": [
        {
          "output_type": "display_data",
          "data": {
            "text/html": [
              "\n",
              "  <style>\n",
              "    pre {\n",
              "        white-space: pre-wrap;\n",
              "    }\n",
              "  </style>\n",
              "  "
            ],
            "text/plain": [
              "<IPython.core.display.HTML object>"
            ]
          },
          "metadata": {
            "tags": []
          }
        }
      ]
    },
    {
      "cell_type": "code",
      "metadata": {
        "id": "f_Ayk2NhuD8g",
        "colab_type": "code",
        "colab": {
          "base_uri": "https://localhost:8080/",
          "height": 16
        },
        "outputId": "53a68bc6-1df3-4e3b-882d-b8185effe7cc"
      },
      "source": [
        "def data_preparation():\n",
        "  \"\"\"\n",
        "  Prepare movie dataframes of review, sentiment and rating\n",
        "  \"\"\"\n",
        "  \n",
        "  data = {}\n",
        "  PATH = '/content/aclImdb'\n",
        "  for split in ['train', 'test']:\n",
        "    data[split] = []\n",
        "    for sentiment in ['pos', 'neg']:\n",
        "      if sentiment == 'pos':\n",
        "        score = 1\n",
        "      else: \n",
        "        score = 0\n",
        "\n",
        "      path = os.path.join(PATH, split, sentiment)\n",
        "      filenames = os.listdir(path)\n",
        "      \n",
        "      for name in filenames:\n",
        "        ratings = re.findall(r'_(.*?).txt', name)\n",
        "        ratings = ''.join(ratings)\n",
        "        with open(os.path.join(path, name), \"r\") as f:\n",
        "          review = f.read()\n",
        "          data[split].append([review, score, int(ratings)])\n",
        "\n",
        "  np.random.shuffle(data[\"train\"])        \n",
        "  data[\"train\"] = pd.DataFrame(data[\"train\"], columns=['text', 'sentiment', 'rating'])\n",
        "  data[\"train\"].to_csv(\"train_data.csv\")\n",
        "  np.random.shuffle(data[\"test\"])\n",
        "  data[\"test\"] = pd.DataFrame(data[\"test\"], columns=['text', 'sentiment', 'rating'])\n",
        "  data[\"test\"].to_csv(\"test_data.csv\")\n",
        "  return data[\"train\"], data[\"test\"]"
      ],
      "execution_count": 4,
      "outputs": [
        {
          "output_type": "display_data",
          "data": {
            "text/html": [
              "\n",
              "  <style>\n",
              "    pre {\n",
              "        white-space: pre-wrap;\n",
              "    }\n",
              "  </style>\n",
              "  "
            ],
            "text/plain": [
              "<IPython.core.display.HTML object>"
            ]
          },
          "metadata": {
            "tags": []
          }
        }
      ]
    },
    {
      "cell_type": "code",
      "metadata": {
        "id": "lBoTccpsvHSx",
        "colab_type": "code",
        "colab": {
          "base_uri": "https://localhost:8080/",
          "height": 16
        },
        "outputId": "402a171d-f610-4e4e-f072-1bff82881891"
      },
      "source": [
        "train_data, test_data = data_preparation()"
      ],
      "execution_count": 5,
      "outputs": [
        {
          "output_type": "display_data",
          "data": {
            "text/html": [
              "\n",
              "  <style>\n",
              "    pre {\n",
              "        white-space: pre-wrap;\n",
              "    }\n",
              "  </style>\n",
              "  "
            ],
            "text/plain": [
              "<IPython.core.display.HTML object>"
            ]
          },
          "metadata": {
            "tags": []
          }
        }
      ]
    },
    {
      "cell_type": "code",
      "metadata": {
        "id": "FS26ePCAfvPi",
        "colab_type": "code",
        "colab": {
          "base_uri": "https://localhost:8080/",
          "height": 197
        },
        "outputId": "ae1db76d-63ee-4a81-8b02-c4c0fffa6c49"
      },
      "source": [
        "train_data.head()"
      ],
      "execution_count": 20,
      "outputs": [
        {
          "output_type": "display_data",
          "data": {
            "text/html": [
              "\n",
              "  <style>\n",
              "    pre {\n",
              "        white-space: pre-wrap;\n",
              "    }\n",
              "  </style>\n",
              "  "
            ],
            "text/plain": [
              "<IPython.core.display.HTML object>"
            ]
          },
          "metadata": {
            "tags": []
          }
        },
        {
          "output_type": "execute_result",
          "data": {
            "text/html": [
              "<div>\n",
              "<style scoped>\n",
              "    .dataframe tbody tr th:only-of-type {\n",
              "        vertical-align: middle;\n",
              "    }\n",
              "\n",
              "    .dataframe tbody tr th {\n",
              "        vertical-align: top;\n",
              "    }\n",
              "\n",
              "    .dataframe thead th {\n",
              "        text-align: right;\n",
              "    }\n",
              "</style>\n",
              "<table border=\"1\" class=\"dataframe\">\n",
              "  <thead>\n",
              "    <tr style=\"text-align: right;\">\n",
              "      <th></th>\n",
              "      <th>text</th>\n",
              "      <th>sentiment</th>\n",
              "      <th>rating</th>\n",
              "    </tr>\n",
              "  </thead>\n",
              "  <tbody>\n",
              "    <tr>\n",
              "      <th>0</th>\n",
              "      <td>saw vancouver international film festival funn...</td>\n",
              "      <td>1</td>\n",
              "      <td>9</td>\n",
              "    </tr>\n",
              "    <tr>\n",
              "      <th>1</th>\n",
              "      <td>hilariously accurate caricature trying sell sc...</td>\n",
              "      <td>1</td>\n",
              "      <td>8</td>\n",
              "    </tr>\n",
              "    <tr>\n",
              "      <th>2</th>\n",
              "      <td>quirky independent theatrical christian slater...</td>\n",
              "      <td>0</td>\n",
              "      <td>3</td>\n",
              "    </tr>\n",
              "    <tr>\n",
              "      <th>3</th>\n",
              "      <td>ever wanted eat worm s documentary show yeah k...</td>\n",
              "      <td>0</td>\n",
              "      <td>3</td>\n",
              "    </tr>\n",
              "    <tr>\n",
              "      <th>4</th>\n",
              "      <td>tell spent making waste time ugh anything remo...</td>\n",
              "      <td>0</td>\n",
              "      <td>1</td>\n",
              "    </tr>\n",
              "  </tbody>\n",
              "</table>\n",
              "</div>"
            ],
            "text/plain": [
              "                                                text  sentiment  rating\n",
              "0  saw vancouver international film festival funn...          1       9\n",
              "1  hilariously accurate caricature trying sell sc...          1       8\n",
              "2  quirky independent theatrical christian slater...          0       3\n",
              "3  ever wanted eat worm s documentary show yeah k...          0       3\n",
              "4  tell spent making waste time ugh anything remo...          0       1"
            ]
          },
          "metadata": {
            "tags": []
          },
          "execution_count": 20
        }
      ]
    },
    {
      "cell_type": "code",
      "metadata": {
        "id": "WI8UrsHBhAuY",
        "colab_type": "code",
        "colab": {
          "base_uri": "https://localhost:8080/",
          "height": 197
        },
        "outputId": "7310dd9a-50c2-40b6-ad47-e1e45b9a12b6"
      },
      "source": [
        "test_data.head()"
      ],
      "execution_count": 21,
      "outputs": [
        {
          "output_type": "display_data",
          "data": {
            "text/html": [
              "\n",
              "  <style>\n",
              "    pre {\n",
              "        white-space: pre-wrap;\n",
              "    }\n",
              "  </style>\n",
              "  "
            ],
            "text/plain": [
              "<IPython.core.display.HTML object>"
            ]
          },
          "metadata": {
            "tags": []
          }
        },
        {
          "output_type": "execute_result",
          "data": {
            "text/html": [
              "<div>\n",
              "<style scoped>\n",
              "    .dataframe tbody tr th:only-of-type {\n",
              "        vertical-align: middle;\n",
              "    }\n",
              "\n",
              "    .dataframe tbody tr th {\n",
              "        vertical-align: top;\n",
              "    }\n",
              "\n",
              "    .dataframe thead th {\n",
              "        text-align: right;\n",
              "    }\n",
              "</style>\n",
              "<table border=\"1\" class=\"dataframe\">\n",
              "  <thead>\n",
              "    <tr style=\"text-align: right;\">\n",
              "      <th></th>\n",
              "      <th>text</th>\n",
              "      <th>sentiment</th>\n",
              "      <th>rating</th>\n",
              "    </tr>\n",
              "  </thead>\n",
              "  <tbody>\n",
              "    <tr>\n",
              "      <th>0</th>\n",
              "      <td>relatively young nt knowNEG badNEG antisemitis...</td>\n",
              "      <td>1</td>\n",
              "      <td>9</td>\n",
              "    </tr>\n",
              "    <tr>\n",
              "      <th>1</th>\n",
              "      <td>bought movie market stall three year ago got t...</td>\n",
              "      <td>0</td>\n",
              "      <td>1</td>\n",
              "    </tr>\n",
              "    <tr>\n",
              "      <th>2</th>\n",
              "      <td>despite absolutely horrid script later film st...</td>\n",
              "      <td>0</td>\n",
              "      <td>3</td>\n",
              "    </tr>\n",
              "    <tr>\n",
              "      <th>3</th>\n",
              "      <td>unfortunately littleknown film say unfortunate...</td>\n",
              "      <td>1</td>\n",
              "      <td>10</td>\n",
              "    </tr>\n",
              "    <tr>\n",
              "      <th>4</th>\n",
              "      <td>thomas hardy one favorite author truly wonderf...</td>\n",
              "      <td>0</td>\n",
              "      <td>1</td>\n",
              "    </tr>\n",
              "  </tbody>\n",
              "</table>\n",
              "</div>"
            ],
            "text/plain": [
              "                                                text  sentiment  rating\n",
              "0  relatively young nt knowNEG badNEG antisemitis...          1       9\n",
              "1  bought movie market stall three year ago got t...          0       1\n",
              "2  despite absolutely horrid script later film st...          0       3\n",
              "3  unfortunately littleknown film say unfortunate...          1      10\n",
              "4  thomas hardy one favorite author truly wonderf...          0       1"
            ]
          },
          "metadata": {
            "tags": []
          },
          "execution_count": 21
        }
      ]
    },
    {
      "cell_type": "markdown",
      "metadata": {
        "id": "Oesci6pnPY2F",
        "colab_type": "text"
      },
      "source": [
        "# EDA "
      ]
    },
    {
      "cell_type": "markdown",
      "metadata": {
        "id": "p_7KfefXyase",
        "colab_type": "text"
      },
      "source": [
        "\n",
        "\n",
        "> We need to pay attention to negation words (like don't, isnot,etc.) which is a part of stopwords. Because in that task it is important to define negative words for prediction negative polarity.\n",
        "\n",
        "\n",
        "> I define separately the list of negation words and the list of stopwords\n",
        "\n",
        "\n",
        "\n"
      ]
    },
    {
      "cell_type": "code",
      "metadata": {
        "id": "_uG0r79IyXlC",
        "colab_type": "code",
        "colab": {
          "base_uri": "https://localhost:8080/",
          "height": 52
        },
        "outputId": "29840624-a62a-47bf-e346-69a2b8d3776d"
      },
      "source": [
        "import nltk\n",
        "from nltk.corpus import stopwords\n",
        "nltk.download('stopwords')\n",
        "stop_words = stopwords.words('english')[:143] + ['ma', 'won', 's']\n",
        "stop_words.remove(\"don\")\n",
        "stop_words.remove(\"don't\")\n",
        "#print(stop_words)\n",
        "negation_words = stopwords.words('english')[143:] + [\"don\", \"don't\"]\n",
        "negation_words.remove('ma')\n",
        "negation_words.remove('won')\n",
        "#print(negation_words)"
      ],
      "execution_count": 6,
      "outputs": [
        {
          "output_type": "display_data",
          "data": {
            "text/html": [
              "\n",
              "  <style>\n",
              "    pre {\n",
              "        white-space: pre-wrap;\n",
              "    }\n",
              "  </style>\n",
              "  "
            ],
            "text/plain": [
              "<IPython.core.display.HTML object>"
            ]
          },
          "metadata": {
            "tags": []
          }
        },
        {
          "output_type": "stream",
          "text": [
            "[nltk_data] Downloading package stopwords to /root/nltk_data...\n",
            "[nltk_data]   Package stopwords is already up-to-date!\n"
          ],
          "name": "stdout"
        }
      ]
    },
    {
      "cell_type": "code",
      "metadata": {
        "id": "jzI9kjOYvd3i",
        "colab_type": "code",
        "colab": {
          "base_uri": "https://localhost:8080/",
          "height": 105
        },
        "outputId": "c901d12b-4ea1-4c23-ca7d-34da99e4f214"
      },
      "source": [
        "import string #punctuation list\n",
        "import re\n",
        "import nltk\n",
        "from nltk.corpus import stopwords\n",
        "from nltk.tokenize import RegexpTokenizer, word_tokenize\n",
        "from nltk.stem import WordNetLemmatizer\n",
        "from nltk.stem.porter import PorterStemmer\n",
        "from nltk.sentiment.util import mark_negation\n",
        "nltk.download('punkt')\n",
        "from bs4 import BeautifulSoup\n",
        "\n",
        "def delete_htmls(text):\n",
        "    soup = BeautifulSoup(text, 'lxml')\n",
        "    clean_text = soup.get_text()\n",
        "    return clean_text\n",
        "\n",
        "def add_spaces(text):\n",
        "    \"\"\"\n",
        "    There some cases w/o spaces between words and dots, commas\n",
        "    Add spaces after dots and commas\n",
        "    \"\"\"\n",
        "    proc_text = re.sub(r'(?<=[.,!?])(?=[^\\s])', ' ', text)\n",
        "    return proc_text\n",
        "\n",
        "def remove_numbers(text):\n",
        "    clean_text = re.sub(r'\\d+', '', text)\n",
        "    return clean_text\n",
        "\n",
        "def remove_punc(text): \n",
        "    clean_text = [''.join(sym for sym in txt if sym not in string.punctuation) for txt in text]\n",
        "    text = [symb for symb in clean_text if symb]\n",
        "    return text\n",
        "\n",
        "def removestopwords(text):\n",
        "    words = [w for w in text if w not in stop_words]\n",
        "    return words\n",
        "\n",
        "def negation_text(text):\n",
        "    negated_text = mark_negation(text)\n",
        "    return negated_text\n",
        "\n",
        "\n",
        "def processing(text):\n",
        "    new_text = remove_numbers(add_spaces(delete_htmls(text)))\n",
        "    new_text = ' '.join(new_text.split())\n",
        "    token_text = word_tokenize(new_text)\n",
        "    proc_text = negation_text(removestopwords(token_text))\n",
        "    clean_text = remove_punc(proc_text)\n",
        "    return clean_text"
      ],
      "execution_count": 7,
      "outputs": [
        {
          "output_type": "display_data",
          "data": {
            "text/html": [
              "\n",
              "  <style>\n",
              "    pre {\n",
              "        white-space: pre-wrap;\n",
              "    }\n",
              "  </style>\n",
              "  "
            ],
            "text/plain": [
              "<IPython.core.display.HTML object>"
            ]
          },
          "metadata": {
            "tags": []
          }
        },
        {
          "output_type": "stream",
          "text": [
            "[nltk_data] Downloading package punkt to /root/nltk_data...\n"
          ],
          "name": "stdout"
        },
        {
          "output_type": "stream",
          "text": [
            "/usr/local/lib/python3.6/dist-packages/nltk/twitter/__init__.py:20: UserWarning: The twython library has not been installed. Some functionality from the twitter package will not be available.\n",
            "  warnings.warn(\"The twython library has not been installed. \"\n"
          ],
          "name": "stderr"
        },
        {
          "output_type": "stream",
          "text": [
            "[nltk_data]   Package punkt is already up-to-date!\n"
          ],
          "name": "stdout"
        }
      ]
    },
    {
      "cell_type": "code",
      "metadata": {
        "id": "ASvynPOxDYLk",
        "colab_type": "code",
        "colab": {
          "base_uri": "https://localhost:8080/",
          "height": 52
        },
        "outputId": "a62569d7-bb78-4da9-f2aa-4f4e8d541aba"
      },
      "source": [
        "from nltk.stem.wordnet import WordNetLemmatizer\n",
        "nltk.download('wordnet')\n",
        "lemmatizer = WordNetLemmatizer()\n",
        "def lemmatizing(tokens):\n",
        "    lemmatized_tokens = [lemmatizer.lemmatize(token) for token in tokens]\n",
        "    return ' '.join(lemmatized_tokens)\n",
        "\n",
        "\n",
        "from nltk.stem import PorterStemmer\n",
        "stemmer = PorterStemmer()\n",
        "def stemming(tokens):\n",
        "    stemmed_tokens = [stemmer.stem(token) for token in tokens]\n",
        "    return ' '.join(stemmed_tokens)\n",
        "\n",
        "def func(text):\n",
        "    txt = ' '.join(text)\n",
        "    return txt"
      ],
      "execution_count": 8,
      "outputs": [
        {
          "output_type": "display_data",
          "data": {
            "text/html": [
              "\n",
              "  <style>\n",
              "    pre {\n",
              "        white-space: pre-wrap;\n",
              "    }\n",
              "  </style>\n",
              "  "
            ],
            "text/plain": [
              "<IPython.core.display.HTML object>"
            ]
          },
          "metadata": {
            "tags": []
          }
        },
        {
          "output_type": "stream",
          "text": [
            "[nltk_data] Downloading package wordnet to /root/nltk_data...\n",
            "[nltk_data]   Package wordnet is already up-to-date!\n"
          ],
          "name": "stdout"
        }
      ]
    },
    {
      "cell_type": "code",
      "metadata": {
        "id": "afntN_R3Fjoe",
        "colab_type": "code",
        "colab": {
          "base_uri": "https://localhost:8080/",
          "height": 16
        },
        "outputId": "1e098c84-fdab-454a-c7dc-0569118b4e11"
      },
      "source": [
        "train_data['text'] = train_data['text'].str.lower()\n",
        "test_data['text'] = test_data['text'].str.lower()\n",
        "train_data['text'] = train_data['text'].apply(processing)\n",
        "test_data['text'] = test_data['text'].apply(processing)"
      ],
      "execution_count": 9,
      "outputs": [
        {
          "output_type": "display_data",
          "data": {
            "text/html": [
              "\n",
              "  <style>\n",
              "    pre {\n",
              "        white-space: pre-wrap;\n",
              "    }\n",
              "  </style>\n",
              "  "
            ],
            "text/plain": [
              "<IPython.core.display.HTML object>"
            ]
          },
          "metadata": {
            "tags": []
          }
        }
      ]
    },
    {
      "cell_type": "code",
      "metadata": {
        "id": "e6Pz7nJDGfW7",
        "colab_type": "code",
        "colab": {
          "base_uri": "https://localhost:8080/",
          "height": 16
        },
        "outputId": "02eaac9f-a91b-4688-8d16-a8a440912b5f"
      },
      "source": [
        "train_data['text'] = train_data['text'].apply(lemmatizing)\n",
        "test_data['text'] = test_data['text'].apply(lemmatizing)\n",
        "# train_data['text'] = train_data['text'].apply(stemming)\n",
        "# test_data['text'] = test_data['text'].apply(stemming)"
      ],
      "execution_count": 10,
      "outputs": [
        {
          "output_type": "display_data",
          "data": {
            "text/html": [
              "\n",
              "  <style>\n",
              "    pre {\n",
              "        white-space: pre-wrap;\n",
              "    }\n",
              "  </style>\n",
              "  "
            ],
            "text/plain": [
              "<IPython.core.display.HTML object>"
            ]
          },
          "metadata": {
            "tags": []
          }
        }
      ]
    },
    {
      "cell_type": "code",
      "metadata": {
        "id": "vH56AgdmjHa2",
        "colab_type": "code",
        "colab": {
          "base_uri": "https://localhost:8080/",
          "height": 391
        },
        "outputId": "1f699a6b-799e-4513-9c44-4320dfd5f404"
      },
      "source": [
        "import matplotlib.pyplot as plt\n",
        "fig = plt.figure(figsize=(8,6))\n",
        "train_data.groupby('rating').text.count().plot.bar(ylim=0)\n",
        "plt.show()"
      ],
      "execution_count": 35,
      "outputs": [
        {
          "output_type": "display_data",
          "data": {
            "text/html": [
              "\n",
              "  <style>\n",
              "    pre {\n",
              "        white-space: pre-wrap;\n",
              "    }\n",
              "  </style>\n",
              "  "
            ],
            "text/plain": [
              "<IPython.core.display.HTML object>"
            ]
          },
          "metadata": {
            "tags": []
          }
        },
        {
          "output_type": "display_data",
          "data": {
            "image/png": "[encoded data removed]",
            "text/plain": [
              "<Figure size 576x432 with 1 Axes>"
            ]
          },
          "metadata": {
            "tags": [],
            "needs_background": "light"
          }
        }
      ]
    },
    {
      "cell_type": "code",
      "metadata": {
        "id": "3a6dCLxGgaWU",
        "colab_type": "code",
        "colab": {
          "base_uri": "https://localhost:8080/",
          "height": 391
        },
        "outputId": "71de8e00-9d06-4344-b4fa-16dd49bad2ed"
      },
      "source": [
        "import matplotlib.pyplot as plt\n",
        "fig = plt.figure(figsize=(8,6))\n",
        "test_data.groupby('rating').text.count().plot.bar(ylim=0)\n",
        "plt.show()"
      ],
      "execution_count": 15,
      "outputs": [
        {
          "output_type": "display_data",
          "data": {
            "text/html": [
              "\n",
              "  <style>\n",
              "    pre {\n",
              "        white-space: pre-wrap;\n",
              "    }\n",
              "  </style>\n",
              "  "
            ],
            "text/plain": [
              "<IPython.core.display.HTML object>"
            ]
          },
          "metadata": {
            "tags": []
          }
        },
        {
          "output_type": "display_data",
          "data": {
            "text/html": [
              "\n",
              "  <style>\n",
              "    pre {\n",
              "        white-space: pre-wrap;\n",
              "    }\n",
              "  </style>\n",
              "  "
            ],
            "text/plain": [
              "<IPython.core.display.HTML object>"
            ]
          },
          "metadata": {
            "tags": []
          }
        },
        {
          "output_type": "display_data",
          "data": {
            "image/png": "[encoded data removed]",
            "text/plain": [
              "<Figure size 576x432 with 1 Axes>"
            ]
          },
          "metadata": {
            "tags": [],
            "needs_background": "light"
          }
        }
      ]
    },
    {
      "cell_type": "code",
      "metadata": {
        "colab_type": "code",
        "id": "gru0MmWe6xV2",
        "colab": {
          "base_uri": "https://localhost:8080/",
          "height": 176
        },
        "outputId": "967b1e2e-68fe-466b-c4b1-67e13a9ba403"
      },
      "source": [
        "df_train = train_data.drop(train_data[train_data.rating == 1][:2700].index)\n",
        "df_train = df_train.drop(df_train[df_train.rating == 10][:2400].index)\n",
        "df_train = df_train.drop(df_train[df_train.rating == 8][:700].index)\n",
        "df_train = df_train.drop(df_train[df_train.rating == 4][:300].index)\n",
        "df_train.rating.value_counts()"
      ],
      "execution_count": 11,
      "outputs": [
        {
          "output_type": "display_data",
          "data": {
            "text/html": [
              "\n",
              "  <style>\n",
              "    pre {\n",
              "        white-space: pre-wrap;\n",
              "    }\n",
              "  </style>\n",
              "  "
            ],
            "text/plain": [
              "<IPython.core.display.HTML object>"
            ]
          },
          "metadata": {
            "tags": []
          }
        },
        {
          "output_type": "execute_result",
          "data": {
            "text/plain": [
              "7     2496\n",
              "3     2420\n",
              "1     2400\n",
              "4     2396\n",
              "10    2332\n",
              "8     2309\n",
              "2     2284\n",
              "9     2263\n",
              "Name: rating, dtype: int64"
            ]
          },
          "metadata": {
            "tags": []
          },
          "execution_count": 11
        }
      ]
    },
    {
      "cell_type": "code",
      "metadata": {
        "colab_type": "code",
        "id": "521QCJdJ6xWC",
        "colab": {
          "base_uri": "https://localhost:8080/",
          "height": 176
        },
        "outputId": "3b6041c6-0867-40d8-a4f4-9364fa0fd654"
      },
      "source": [
        "df_test = test_data.drop(test_data[test_data.rating == 1][:2700].index)\n",
        "df_test = df_test.drop(df_test[df_test.rating == 10][:2700].index)\n",
        "df_test = df_test.drop(df_test[df_test.rating == 8][:500].index)\n",
        "df_test = df_test.drop(df_test[df_test.rating == 4][:300].index)\n",
        "df_test = df_test.drop(df_test[df_test.rating == 3][:200].index)\n",
        "\n",
        "df_test.rating.value_counts()"
      ],
      "execution_count": 12,
      "outputs": [
        {
          "output_type": "display_data",
          "data": {
            "text/html": [
              "\n",
              "  <style>\n",
              "    pre {\n",
              "        white-space: pre-wrap;\n",
              "    }\n",
              "  </style>\n",
              "  "
            ],
            "text/plain": [
              "<IPython.core.display.HTML object>"
            ]
          },
          "metadata": {
            "tags": []
          }
        },
        {
          "output_type": "execute_result",
          "data": {
            "text/plain": [
              "8     2350\n",
              "9     2344\n",
              "3     2341\n",
              "4     2335\n",
              "1     2322\n",
              "7     2307\n",
              "2     2302\n",
              "10    2299\n",
              "Name: rating, dtype: int64"
            ]
          },
          "metadata": {
            "tags": []
          },
          "execution_count": 12
        }
      ]
    },
    {
      "cell_type": "markdown",
      "metadata": {
        "id": "v9aFHSGnOa3j",
        "colab_type": "text"
      },
      "source": [
        "# SENTIMENT PREDICTION"
      ]
    },
    {
      "cell_type": "code",
      "metadata": {
        "id": "Y3itLHRNIlRM",
        "colab_type": "code",
        "colab": {
          "base_uri": "https://localhost:8080/",
          "height": 16
        },
        "outputId": "c25564fa-2ae0-493e-becd-0e7031ded645"
      },
      "source": [
        "from sklearn.feature_extraction.text import CountVectorizer, TfidfVectorizer\n",
        "from sklearn.model_selection import train_test_split\n",
        "from sklearn.naive_bayes import MultinomialNB\n",
        "from sklearn.metrics import f1_score, accuracy_score\n",
        "\n",
        "#X_train, X_valid, y_train, y_valid = train_test_split(train_data['text'], train_data['sentiment'], test_size=0.2)\n",
        "X_train, y_train = train_data['text'], train_data['sentiment']\n",
        "X_test, y_test = test_data['text'], test_data['sentiment']\n",
        "\n",
        "vec = CountVectorizer(ngram_range=(1,3), binary=True)\n",
        "\n",
        "X_train = vec.fit_transform(X_train)\n",
        "X_test = vec.transform(X_test)"
      ],
      "execution_count": 75,
      "outputs": [
        {
          "output_type": "display_data",
          "data": {
            "text/html": [
              "\n",
              "  <style>\n",
              "    pre {\n",
              "        white-space: pre-wrap;\n",
              "    }\n",
              "  </style>\n",
              "  "
            ],
            "text/plain": [
              "<IPython.core.display.HTML object>"
            ]
          },
          "metadata": {
            "tags": []
          }
        },
        {
          "output_type": "display_data",
          "data": {
            "text/html": [
              "\n",
              "  <style>\n",
              "    pre {\n",
              "        white-space: pre-wrap;\n",
              "    }\n",
              "  </style>\n",
              "  "
            ],
            "text/plain": [
              "<IPython.core.display.HTML object>"
            ]
          },
          "metadata": {
            "tags": []
          }
        }
      ]
    },
    {
      "cell_type": "code",
      "metadata": {
        "id": "z-8s12799qQ4",
        "colab_type": "code",
        "colab": {
          "base_uri": "https://localhost:8080/",
          "height": 390
        },
        "outputId": "0297e08b-8e50-49c9-9977-c62335f0236f"
      },
      "source": [
        "from sklearn.svm import LinearSVC\n",
        "from sklearn.model_selection import GridSearchCV\n",
        "from sklearn.linear_model import LogisticRegression\n",
        "from sklearn.naive_bayes import MultinomialNB\n",
        "\n",
        "for c in [0.01, 0.05, 0.1]:\n",
        "    model = LinearSVC(C=c)\n",
        "    model.fit(X_train, y_train)\n",
        "    pred = model.predict(X_test)\n",
        "    print(\"Model is {}\".format(model))\n",
        "    print(\"The F1 accuracy score: {}%\".format(f1_score(y_test, pred) * 100))\n",
        "    print(\"Accuracy score is {}%\".format(accuracy_score(y_test, pred) * 100))\n",
        "    print(50*'-', sep='\\n')\n"
      ],
      "execution_count": 76,
      "outputs": [
        {
          "output_type": "display_data",
          "data": {
            "text/html": [
              "\n",
              "  <style>\n",
              "    pre {\n",
              "        white-space: pre-wrap;\n",
              "    }\n",
              "  </style>\n",
              "  "
            ],
            "text/plain": [
              "<IPython.core.display.HTML object>"
            ]
          },
          "metadata": {
            "tags": []
          }
        },
        {
          "output_type": "display_data",
          "data": {
            "text/html": [
              "\n",
              "  <style>\n",
              "    pre {\n",
              "        white-space: pre-wrap;\n",
              "    }\n",
              "  </style>\n",
              "  "
            ],
            "text/plain": [
              "<IPython.core.display.HTML object>"
            ]
          },
          "metadata": {
            "tags": []
          }
        },
        {
          "output_type": "stream",
          "text": [
            "Model is LinearSVC(C=0.01, class_weight=None, dual=True, fit_intercept=True,\n",
            "          intercept_scaling=1, loss='squared_hinge', max_iter=1000,\n",
            "          multi_class='ovr', penalty='l2', random_state=None, tol=0.0001,\n",
            "          verbose=0)\n",
            "The F1 accuracy score: 88.71917263325379%\n",
            "Accuracy score is 88.656%\n",
            "--------------------------------------------------\n",
            "Model is LinearSVC(C=0.05, class_weight=None, dual=True, fit_intercept=True,\n",
            "          intercept_scaling=1, loss='squared_hinge', max_iter=1000,\n",
            "          multi_class='ovr', penalty='l2', random_state=None, tol=0.0001,\n",
            "          verbose=0)\n",
            "The F1 accuracy score: 88.58440213494781%\n",
            "Accuracy score is 88.536%\n",
            "--------------------------------------------------\n",
            "Model is LinearSVC(C=0.1, class_weight=None, dual=True, fit_intercept=True,\n",
            "          intercept_scaling=1, loss='squared_hinge', max_iter=1000,\n",
            "          multi_class='ovr', penalty='l2', random_state=None, tol=0.0001,\n",
            "          verbose=0)\n",
            "The F1 accuracy score: 88.54457101887995%\n",
            "Accuracy score is 88.496%\n",
            "--------------------------------------------------\n"
          ],
          "name": "stdout"
        }
      ]
    },
    {
      "cell_type": "code",
      "metadata": {
        "id": "7cVnmEhvHr20",
        "colab_type": "code",
        "colab": {
          "base_uri": "https://localhost:8080/",
          "height": 443
        },
        "outputId": "39aa5195-2d91-48ff-8647-f79a414c15ab"
      },
      "source": [
        "for c in [0.5, 0.1, 1]:\n",
        "    model = LogisticRegression(C=c)\n",
        "    model.fit(X_train, y_train)\n",
        "    pred = model.predict(X_test)\n",
        "    print(\"Model is {}\".format(model))\n",
        "    print(\"The F1 accuracy score: {}%\".format(f1_score(y_test, pred) * 100))\n",
        "    print(\"Accuracy score is {}%\".format(accuracy_score(y_test, pred) * 100))\n",
        "    print(50*'-', sep='\\n')"
      ],
      "execution_count": 77,
      "outputs": [
        {
          "output_type": "display_data",
          "data": {
            "text/html": [
              "\n",
              "  <style>\n",
              "    pre {\n",
              "        white-space: pre-wrap;\n",
              "    }\n",
              "  </style>\n",
              "  "
            ],
            "text/plain": [
              "<IPython.core.display.HTML object>"
            ]
          },
          "metadata": {
            "tags": []
          }
        },
        {
          "output_type": "display_data",
          "data": {
            "text/html": [
              "\n",
              "  <style>\n",
              "    pre {\n",
              "        white-space: pre-wrap;\n",
              "    }\n",
              "  </style>\n",
              "  "
            ],
            "text/plain": [
              "<IPython.core.display.HTML object>"
            ]
          },
          "metadata": {
            "tags": []
          }
        },
        {
          "output_type": "stream",
          "text": [
            "Model is LogisticRegression(C=0.5, class_weight=None, dual=False, fit_intercept=True,\n",
            "                   intercept_scaling=1, l1_ratio=None, max_iter=100,\n",
            "                   multi_class='auto', n_jobs=None, penalty='l2',\n",
            "                   random_state=None, solver='lbfgs', tol=0.0001, verbose=0,\n",
            "                   warm_start=False)\n",
            "The F1 accuracy score: 88.73250636132313%\n",
            "Accuracy score is 88.664%\n",
            "--------------------------------------------------\n",
            "Model is LogisticRegression(C=0.1, class_weight=None, dual=False, fit_intercept=True,\n",
            "                   intercept_scaling=1, l1_ratio=None, max_iter=100,\n",
            "                   multi_class='auto', n_jobs=None, penalty='l2',\n",
            "                   random_state=None, solver='lbfgs', tol=0.0001, verbose=0,\n",
            "                   warm_start=False)\n",
            "The F1 accuracy score: 88.52589324748618%\n",
            "Accuracy score is 88.452%\n",
            "--------------------------------------------------\n",
            "Model is LogisticRegression(C=1, class_weight=None, dual=False, fit_intercept=True,\n",
            "                   intercept_scaling=1, l1_ratio=None, max_iter=100,\n",
            "                   multi_class='auto', n_jobs=None, penalty='l2',\n",
            "                   random_state=None, solver='lbfgs', tol=0.0001, verbose=0,\n",
            "                   warm_start=False)\n",
            "The F1 accuracy score: 88.73603435251083%\n",
            "Accuracy score is 88.668%\n",
            "--------------------------------------------------\n"
          ],
          "name": "stdout"
        }
      ]
    },
    {
      "cell_type": "markdown",
      "metadata": {
        "id": "7HxRQ_lnPhGG",
        "colab_type": "text"
      },
      "source": [
        "**FINAL MODEL** "
      ]
    },
    {
      "cell_type": "code",
      "metadata": {
        "id": "BemkN6R-PkPc",
        "colab_type": "code",
        "colab": {
          "base_uri": "https://localhost:8080/",
          "height": 141
        },
        "outputId": "d1760164-8c30-4299-a4fd-57929143b7c3"
      },
      "source": [
        "model = LogisticRegression(C=1)\n",
        "model.fit(X_train, y_train)\n",
        "pred = model.predict(X_test)\n",
        "print(\"Model is {}\".format(model))\n",
        "print(\"The F1 accuracy score: {}%\".format(f1_score(y_test, pred) * 100))\n",
        "print(\"Accuracy score is {}%\".format(accuracy_score(y_test, pred) * 100))"
      ],
      "execution_count": 80,
      "outputs": [
        {
          "output_type": "display_data",
          "data": {
            "text/html": [
              "\n",
              "  <style>\n",
              "    pre {\n",
              "        white-space: pre-wrap;\n",
              "    }\n",
              "  </style>\n",
              "  "
            ],
            "text/plain": [
              "<IPython.core.display.HTML object>"
            ]
          },
          "metadata": {
            "tags": []
          }
        },
        {
          "output_type": "display_data",
          "data": {
            "text/html": [
              "\n",
              "  <style>\n",
              "    pre {\n",
              "        white-space: pre-wrap;\n",
              "    }\n",
              "  </style>\n",
              "  "
            ],
            "text/plain": [
              "<IPython.core.display.HTML object>"
            ]
          },
          "metadata": {
            "tags": []
          }
        },
        {
          "output_type": "stream",
          "text": [
            "Model is LogisticRegression(C=1, class_weight=None, dual=False, fit_intercept=True,\n",
            "                   intercept_scaling=1, l1_ratio=None, max_iter=100,\n",
            "                   multi_class='auto', n_jobs=None, penalty='l2',\n",
            "                   random_state=None, solver='lbfgs', tol=0.0001, verbose=0,\n",
            "                   warm_start=False)\n",
            "The F1 accuracy score: 88.73603435251083%\n",
            "Accuracy score is 88.668%\n"
          ],
          "name": "stdout"
        }
      ]
    },
    {
      "cell_type": "markdown",
      "metadata": {
        "id": "rTaddY-LWtcT",
        "colab_type": "text"
      },
      "source": [
        "**Pickle models for web app**\n"
      ]
    },
    {
      "cell_type": "code",
      "metadata": {
        "id": "UBfVtRNIUsl3",
        "colab_type": "code",
        "colab": {
          "base_uri": "https://localhost:8080/",
          "height": 16
        },
        "outputId": "9234bf83-e6a9-4092-fb2a-0e2cc2f9cd0e"
      },
      "source": [
        "import pickle\n",
        "\n",
        "with open(\"model\", 'wb') as mdl:\n",
        "  pickle.dump(model, mdl)\n",
        "\n",
        "with open(\"stopwords\", 'wb') as word:\n",
        "  pickle.dump(stop_words, word)\n",
        "\n",
        "with open(\"vectorizer\", 'wb') as vect:\n",
        "  pickle.dump(vec, vect)"
      ],
      "execution_count": null,
      "outputs": [
        {
          "output_type": "display_data",
          "data": {
            "text/html": [
              "\n",
              "  <style>\n",
              "    pre {\n",
              "        white-space: pre-wrap;\n",
              "    }\n",
              "  </style>\n",
              "  "
            ],
            "text/plain": [
              "<IPython.core.display.HTML object>"
            ]
          },
          "metadata": {
            "tags": []
          }
        },
        {
          "output_type": "display_data",
          "data": {
            "text/html": [
              "\n",
              "  <style>\n",
              "    pre {\n",
              "        white-space: pre-wrap;\n",
              "    }\n",
              "  </style>\n",
              "  "
            ],
            "text/plain": [
              "<IPython.core.display.HTML object>"
            ]
          },
          "metadata": {
            "tags": []
          }
        }
      ]
    },
    {
      "cell_type": "markdown",
      "metadata": {
        "id": "o4EmagLqOLqJ",
        "colab_type": "text"
      },
      "source": [
        "# RATING PREDICTION"
      ]
    },
    {
      "cell_type": "code",
      "metadata": {
        "id": "d5e9fP5qW5xK",
        "colab_type": "code",
        "colab": {
          "base_uri": "https://localhost:8080/",
          "height": 16
        },
        "outputId": "77d64dbc-0cd5-4e5d-b8ae-d52051cdda95"
      },
      "source": [
        "X_train, y_train = df_train['text'], df_train['rating']\n",
        "X_test, y_test = df_test['text'], df_test['rating']\n"
      ],
      "execution_count": 13,
      "outputs": [
        {
          "output_type": "display_data",
          "data": {
            "text/html": [
              "\n",
              "  <style>\n",
              "    pre {\n",
              "        white-space: pre-wrap;\n",
              "    }\n",
              "  </style>\n",
              "  "
            ],
            "text/plain": [
              "<IPython.core.display.HTML object>"
            ]
          },
          "metadata": {
            "tags": []
          }
        }
      ]
    },
    {
      "cell_type": "code",
      "metadata": {
        "id": "cSH5SHO4rc9z",
        "colab_type": "code",
        "colab": {
          "base_uri": "https://localhost:8080/",
          "height": 301
        },
        "outputId": "da36a818-57bd-43ea-cf81-3956e4617ab0"
      },
      "source": [
        "from sklearn.naive_bayes import MultinomialNB\n",
        "from sklearn.pipeline import Pipeline\n",
        "from sklearn.feature_extraction.text import TfidfTransformer, CountVectorizer\n",
        "from sklearn.linear_model import SGDClassifier\n",
        "from sklearn.metrics import f1_score, accuracy_score, classification_report\n",
        "from sklearn.model_selection import cross_val_score\n",
        "\n",
        "\n",
        "nb = Pipeline([('vect', CountVectorizer(ngram_range=(1,3), binary=True)),\n",
        "               ('tfidf', TfidfTransformer()),\n",
        "               ('clf', LinearSVC()),\n",
        "              ])\n",
        "nb.fit(X_train, y_train)\n",
        "\n",
        "from sklearn.metrics import classification_report\n",
        "y_pred = nb.predict(X_test)\n",
        "\n",
        "print('accuracy %s' % accuracy_score(y_pred, y_test))\n",
        "print(classification_report(y_test, y_pred))"
      ],
      "execution_count": 16,
      "outputs": [
        {
          "output_type": "display_data",
          "data": {
            "text/html": [
              "\n",
              "  <style>\n",
              "    pre {\n",
              "        white-space: pre-wrap;\n",
              "    }\n",
              "  </style>\n",
              "  "
            ],
            "text/plain": [
              "<IPython.core.display.HTML object>"
            ]
          },
          "metadata": {
            "tags": []
          }
        },
        {
          "output_type": "stream",
          "text": [
            "accuracy 0.34096774193548385\n",
            "              precision    recall  f1-score   support\n",
            "\n",
            "           1       0.40      0.72      0.52      2322\n",
            "           2       0.26      0.14      0.18      2302\n",
            "           3       0.29      0.23      0.26      2341\n",
            "           4       0.34      0.26      0.29      2335\n",
            "           7       0.32      0.43      0.37      2307\n",
            "           8       0.27      0.15      0.19      2350\n",
            "           9       0.28      0.22      0.25      2344\n",
            "          10       0.40      0.59      0.47      2299\n",
            "\n",
            "    accuracy                           0.34     18600\n",
            "   macro avg       0.32      0.34      0.32     18600\n",
            "weighted avg       0.32      0.34      0.32     18600\n",
            "\n"
          ],
          "name": "stdout"
        }
      ]
    },
    {
      "cell_type": "code",
      "metadata": {
        "id": "OcCU_bd2J6k1",
        "colab_type": "code",
        "colab": {
          "base_uri": "https://localhost:8080/",
          "height": 16
        },
        "outputId": "dba3fe70-0e35-4f28-97e8-bcc3a4a24fa7"
      },
      "source": [
        "import pickle\n",
        "import joblib\n",
        "import bz2\n",
        "\n",
        "with open(\"model\", 'wb') as mdl:\n",
        "  pickle.dump(nb, mdl)"
      ],
      "execution_count": 63,
      "outputs": [
        {
          "output_type": "display_data",
          "data": {
            "text/html": [
              "\n",
              "  <style>\n",
              "    pre {\n",
              "        white-space: pre-wrap;\n",
              "    }\n",
              "  </style>\n",
              "  "
            ],
            "text/plain": [
              "<IPython.core.display.HTML object>"
            ]
          },
          "metadata": {
            "tags": []
          }
        },
        {
          "output_type": "display_data",
          "data": {
            "text/html": [
              "\n",
              "  <style>\n",
              "    pre {\n",
              "        white-space: pre-wrap;\n",
              "    }\n",
              "  </style>\n",
              "  "
            ],
            "text/plain": [
              "<IPython.core.display.HTML object>"
            ]
          },
          "metadata": {
            "tags": []
          }
        }
      ]
    }
  ]
}
